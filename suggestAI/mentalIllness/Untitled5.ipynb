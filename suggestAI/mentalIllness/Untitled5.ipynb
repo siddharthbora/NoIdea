{
  "nbformat": 4,
  "nbformat_minor": 0,
  "metadata": {
    "colab": {
      "provenance": []
    },
    "kernelspec": {
      "name": "python3",
      "display_name": "Python 3"
    },
    "language_info": {
      "name": "python"
    }
  },
  "cells": [
    {
      "cell_type": "code",
      "execution_count": 5,
      "metadata": {
        "id": "BCMP1OAVHvJd",
        "colab": {
          "base_uri": "https://localhost:8080/"
        },
        "outputId": "e78f7bdf-4056-43a4-eeac-012ea5edd47d"
      },
      "outputs": [
        {
          "output_type": "stream",
          "name": "stdout",
          "text": [
            "Predicted ICD-10: F42.2\n",
            "Predicted Treatment Provided: Cognitive Therapy\n"
          ]
        }
      ],
      "source": [
        "import pandas as pd\n",
        "from scipy.sparse import hstack\n",
        "import joblib\n",
        "\n",
        "# Define the MedicalPredictor class\n",
        "class MedicalPredictor:\n",
        "    def __init__(self, model_file=\"medical_predictor_model (1).pkl\"):\n",
        "        self.model_file = model_file\n",
        "        self.load_model()\n",
        "\n",
        "    def load_model(self):\n",
        "        self.encoder, self.tfidf_vectorizer, self.rf_icd10, self.rf_treatment = joblib.load(self.model_file)\n",
        "\n",
        "    def predict_input(self, input_tuple):\n",
        "        input_data = pd.DataFrame([input_tuple], columns=['Problem Summary', 'Problem Category', 'Psychological Category'])\n",
        "\n",
        "        # Transform input data\n",
        "        input_encoded = self.encoder.transform(input_data[['Problem Category', 'Psychological Category']])\n",
        "        input_summary = self.tfidf_vectorizer.transform(input_data['Problem Summary'])\n",
        "        input_combined = hstack((input_encoded, input_summary))\n",
        "\n",
        "        # Make predictions\n",
        "        icd10_prediction = self.rf_icd10.predict(input_combined)[0]\n",
        "        treatment_prediction = self.rf_treatment.predict(input_combined)[0]\n",
        "\n",
        "        return icd10_prediction, treatment_prediction\n",
        "\n",
        "# Example usage\n",
        "predictor = MedicalPredictor(model_file=\"medical_predictor_model (1).pkl\")\n",
        "\n",
        "input_tuple = ('Obsessive-Compulsive Disorder','Obsessive-Compulsive Disorder','Anxiety')\n",
        "icd10_pred, treatment_pred = predictor.predict_input(input_tuple)\n",
        "\n",
        "print(\"Predicted ICD-10:\", icd10_pred)\n",
        "print(\"Predicted Treatment Provided:\", treatment_pred)\n"
      ]
    },
    {
      "cell_type": "code",
      "source": [
        "def train_or_load_model(training_data):\n",
        "    tfidf_vectorizer = TfidfVectorizer(max_features=1000)\n",
        "    X_train = tfidf_vectorizer.fit_transform(training_data['Problem Description'])\n",
        "    y_train = training_data[['Problem Summary', 'Problem Category', 'Psychological Category', 'ICD-10']]\n",
        "\n",
        "    classifier = RandomForestClassifier(n_estimators=100, random_state=42)\n",
        "    multi_output_classifier = MultiOutputClassifier(classifier)\n",
        "\n",
        "    pipeline = Pipeline([\n",
        "        ('tfidf', tfidf_vectorizer),\n",
        "        ('clf', multi_output_classifier)\n",
        "    ])\n",
        "\n",
        "    pipeline.fit(training_data['Problem Description'], y_train)\n",
        "\n",
        "    return pipeline"
      ],
      "metadata": {
        "id": "ABW9NKlNdIH1"
      },
      "execution_count": 7,
      "outputs": []
    },
    {
      "cell_type": "code",
      "source": [
        "def check_for_new_files_and_update_model(folder_path):\n",
        "    latest_file = max([os.path.join(folder_path, f) for f in os.listdir(folder_path)], key=os.path.getctime)\n",
        "    print(\"Latest file:\", latest_file)\n",
        "    training_data = pd.read_csv(latest_file)\n",
        "\n",
        "    if os.path.exists('/Users/shubhamsaxena/PycharmProjects/noideaProject/ModelState/model.pkl'):\n",
        "        with open('model.pkl', 'rb') as model_file:\n",
        "            pipeline = pickle.load(model_file)\n",
        "    else:\n",
        "        pipeline = train_or_load_model(training_data)\n",
        "\n",
        "    pipeline = train_or_load_model(training_data)\n",
        "\n",
        "    with open('/Users/shubhamsaxena/PycharmProjects/noideaProject/ModelState/model.pkl', 'wb') as model_file:\n",
        "        pickle.dump(pipeline, model_file)\n",
        "\n",
        "    return pipeline"
      ],
      "metadata": {
        "id": "035e8c8RdlG6"
      },
      "execution_count": 12,
      "outputs": []
    },
    {
      "cell_type": "code",
      "source": [
        "with open('model (2).pkl', 'rb') as model_file:\n",
        "    pipeline = pickle.load(model_file)\n",
        "def make_predictions_on_incoming_dataset(incoming_dataset, pipeline):\n",
        "    incoming_data = pd.DataFrame([incoming_dataset])\n",
        "    incoming_data['Problem Description'] = incoming_data['problem_description'].apply(preprocess_text)\n",
        "    incoming_data.drop(columns=['problem_description'], inplace=True)\n",
        "\n",
        "    predictions = pipeline.predict(incoming_data['Problem Description'])\n",
        "    return predictions"
      ],
      "metadata": {
        "colab": {
          "base_uri": "https://localhost:8080/",
          "height": 349
        },
        "id": "SQPJNv_mebdc",
        "outputId": "bf5facf4-5f34-4b20-f551-b12b52239c25"
      },
      "execution_count": 17,
      "outputs": [
        {
          "output_type": "error",
          "ename": "ValueError",
          "evalue": "node array from the pickle has an incompatible dtype:\n- expected: [('left_child', '<i8'), ('right_child', '<i8'), ('feature', '<i8'), ('threshold', '<f8'), ('impurity', '<f8'), ('n_node_samples', '<i8'), ('weighted_n_node_samples', '<f8')]\n- got     : {'names': ['left_child', 'right_child', 'feature', 'threshold', 'impurity', 'n_node_samples', 'weighted_n_node_samples', 'missing_go_to_left'], 'formats': ['<i8', '<i8', '<i8', '<f8', '<f8', '<i8', '<f8', 'u1'], 'offsets': [0, 8, 16, 24, 32, 40, 48, 56], 'itemsize': 64}",
          "traceback": [
            "\u001b[0;31m---------------------------------------------------------------------------\u001b[0m",
            "\u001b[0;31mValueError\u001b[0m                                Traceback (most recent call last)",
            "\u001b[0;32m<ipython-input-17-e305a56c12d2>\u001b[0m in \u001b[0;36m<cell line: 1>\u001b[0;34m()\u001b[0m\n\u001b[1;32m      1\u001b[0m \u001b[0;32mwith\u001b[0m \u001b[0mopen\u001b[0m\u001b[0;34m(\u001b[0m\u001b[0;34m'model (2).pkl'\u001b[0m\u001b[0;34m,\u001b[0m \u001b[0;34m'rb'\u001b[0m\u001b[0;34m)\u001b[0m \u001b[0;32mas\u001b[0m \u001b[0mmodel_file\u001b[0m\u001b[0;34m:\u001b[0m\u001b[0;34m\u001b[0m\u001b[0;34m\u001b[0m\u001b[0m\n\u001b[0;32m----> 2\u001b[0;31m     \u001b[0mpipeline\u001b[0m \u001b[0;34m=\u001b[0m \u001b[0mpickle\u001b[0m\u001b[0;34m.\u001b[0m\u001b[0mload\u001b[0m\u001b[0;34m(\u001b[0m\u001b[0mmodel_file\u001b[0m\u001b[0;34m)\u001b[0m\u001b[0;34m\u001b[0m\u001b[0;34m\u001b[0m\u001b[0m\n\u001b[0m\u001b[1;32m      3\u001b[0m \u001b[0;32mdef\u001b[0m \u001b[0mmake_predictions_on_incoming_dataset\u001b[0m\u001b[0;34m(\u001b[0m\u001b[0mincoming_dataset\u001b[0m\u001b[0;34m,\u001b[0m \u001b[0mpipeline\u001b[0m\u001b[0;34m)\u001b[0m\u001b[0;34m:\u001b[0m\u001b[0;34m\u001b[0m\u001b[0;34m\u001b[0m\u001b[0m\n\u001b[1;32m      4\u001b[0m     \u001b[0mincoming_data\u001b[0m \u001b[0;34m=\u001b[0m \u001b[0mpd\u001b[0m\u001b[0;34m.\u001b[0m\u001b[0mDataFrame\u001b[0m\u001b[0;34m(\u001b[0m\u001b[0;34m[\u001b[0m\u001b[0mincoming_dataset\u001b[0m\u001b[0;34m]\u001b[0m\u001b[0;34m)\u001b[0m\u001b[0;34m\u001b[0m\u001b[0;34m\u001b[0m\u001b[0m\n\u001b[1;32m      5\u001b[0m     \u001b[0mincoming_data\u001b[0m\u001b[0;34m[\u001b[0m\u001b[0;34m'Problem Description'\u001b[0m\u001b[0;34m]\u001b[0m \u001b[0;34m=\u001b[0m \u001b[0mincoming_data\u001b[0m\u001b[0;34m[\u001b[0m\u001b[0;34m'problem_description'\u001b[0m\u001b[0;34m]\u001b[0m\u001b[0;34m.\u001b[0m\u001b[0mapply\u001b[0m\u001b[0;34m(\u001b[0m\u001b[0mpreprocess_text\u001b[0m\u001b[0;34m)\u001b[0m\u001b[0;34m\u001b[0m\u001b[0;34m\u001b[0m\u001b[0m\n",
            "\u001b[0;32msklearn/tree/_tree.pyx\u001b[0m in \u001b[0;36msklearn.tree._tree.Tree.__setstate__\u001b[0;34m()\u001b[0m\n",
            "\u001b[0;32msklearn/tree/_tree.pyx\u001b[0m in \u001b[0;36msklearn.tree._tree._check_node_ndarray\u001b[0;34m()\u001b[0m\n",
            "\u001b[0;31mValueError\u001b[0m: node array from the pickle has an incompatible dtype:\n- expected: [('left_child', '<i8'), ('right_child', '<i8'), ('feature', '<i8'), ('threshold', '<f8'), ('impurity', '<f8'), ('n_node_samples', '<i8'), ('weighted_n_node_samples', '<f8')]\n- got     : {'names': ['left_child', 'right_child', 'feature', 'threshold', 'impurity', 'n_node_samples', 'weighted_n_node_samples', 'missing_go_to_left'], 'formats': ['<i8', '<i8', '<i8', '<f8', '<f8', '<i8', '<f8', 'u1'], 'offsets': [0, 8, 16, 24, 32, 40, 48, 56], 'itemsize': 64}"
          ]
        }
      ]
    },
    {
      "cell_type": "code",
      "source": [],
      "metadata": {
        "id": "oAzQzH0le1R1"
      },
      "execution_count": null,
      "outputs": []
    }
  ]
}