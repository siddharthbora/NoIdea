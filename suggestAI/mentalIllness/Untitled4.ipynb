{
  "nbformat": 4,
  "nbformat_minor": 0,
  "metadata": {
    "colab": {
      "provenance": []
    },
    "kernelspec": {
      "name": "python3",
      "display_name": "Python 3"
    },
    "language_info": {
      "name": "python"
    }
  },
  "cells": [
    {
      "cell_type": "code",
      "execution_count": null,
      "metadata": {
        "id": "wVhMlWYr7GKj"
      },
      "outputs": [],
      "source": []
    },
    {
      "cell_type": "code",
      "source": [],
      "metadata": {
        "id": "12lbCP3G8C_W"
      },
      "execution_count": null,
      "outputs": []
    },
    {
      "cell_type": "code",
      "source": [
        "import joblib"
      ],
      "metadata": {
        "id": "WEEQlhaiGKxJ"
      },
      "execution_count": null,
      "outputs": []
    },
    {
      "cell_type": "code",
      "source": [
        "import pandas as pd\n",
        "from sklearn.model_selection import train_test_split\n",
        "from sklearn.preprocessing import OneHotEncoder\n",
        "from sklearn.feature_extraction.text import TfidfVectorizer\n",
        "from sklearn.ensemble import RandomForestClassifier\n",
        "from sklearn.metrics import accuracy_score\n",
        "from scipy.sparse import hstack\n",
        "\n",
        "# Load data\n",
        "data = pd.read_csv(\"tt.csv\")\n",
        "data = data.dropna()\n",
        "\n",
        "# Features and target\n",
        "X = data[['Problem Summary', 'Problem Category', 'Psychological Category']]\n",
        "y_icd10 = data['ICD-10']\n",
        "y_treatment = data['Treatment Provided']\n",
        "\n",
        "# Train-test split\n",
        "X_train, X_test, y_icd10_train, y_icd10_test, y_treatment_train, y_treatment_test = train_test_split(\n",
        "    X, y_icd10, y_treatment, test_size=0.2, random_state=42)\n",
        "\n",
        "# One-hot encoding for categorical features\n",
        "encoder = OneHotEncoder()\n",
        "X_train_encoded = encoder.fit_transform(X_train[['Problem Category', 'Psychological Category']])\n",
        "\n",
        "# TF-IDF vectorization for Problem Summary\n",
        "tfidf_vectorizer = TfidfVectorizer()\n",
        "X_train_summary = tfidf_vectorizer.fit_transform(X_train['Problem Summary'])\n",
        "\n",
        "# Combine encoded features with TF-IDF vectors\n",
        "X_train_combined = hstack((X_train_encoded, X_train_summary))\n",
        "\n",
        "# Train ICD-10 classifier\n",
        "rf_icd10 = RandomForestClassifier()\n",
        "rf_icd10.fit(X_train_combined, y_icd10_train)\n",
        "\n",
        "# Filter out unknown categories from the test set\n",
        "X_test_filtered = X_test[X_test['Problem Category'].isin(X_train['Problem Category'].unique()) &\n",
        "                         X_test['Psychological Category'].isin(X_train['Psychological Category'].unique())]\n",
        "\n",
        "# Transform the filtered test set\n",
        "X_test_encoded = encoder.transform(X_test_filtered[['Problem Category', 'Psychological Category']])\n",
        "X_test_summary = tfidf_vectorizer.transform(X_test_filtered['Problem Summary'])\n",
        "X_test_combined = hstack((X_test_encoded, X_test_summary))\n",
        "\n",
        "# Make ICD-10 predictions\n",
        "icd10_predictions = rf_icd10.predict(X_test_combined)\n",
        "\n",
        "\n",
        "# Calculate ICD-10 accuracy\n",
        "icd10_accuracy = accuracy_score(y_icd10_test.loc[X_test_filtered.index], icd10_predictions)\n",
        "\n",
        "print(\"ICD-10 Accuracy:\", icd10_accuracy)\n"
      ],
      "metadata": {
        "id": "ioiLrzj2FAZV",
        "colab": {
          "base_uri": "https://localhost:8080/"
        },
        "outputId": "0b29a6c2-97e2-4828-eadb-4ce178fddf28"
      },
      "execution_count": null,
      "outputs": [
        {
          "output_type": "stream",
          "name": "stdout",
          "text": [
            "ICD-10 Accuracy: 0.8888888888888888\n"
          ]
        }
      ]
    },
    {
      "cell_type": "code",
      "source": [
        "X_test_encoded"
      ],
      "metadata": {
        "colab": {
          "base_uri": "https://localhost:8080/"
        },
        "id": "9KKuQXN_EzJ0",
        "outputId": "af81b019-9132-464b-cfab-9c2037140fa0"
      },
      "execution_count": null,
      "outputs": [
        {
          "output_type": "execute_result",
          "data": {
            "text/plain": [
              "<18x20 sparse matrix of type '<class 'numpy.float64'>'\n",
              "\twith 36 stored elements in Compressed Sparse Row format>"
            ]
          },
          "metadata": {},
          "execution_count": 65
        }
      ]
    },
    {
      "cell_type": "code",
      "source": [
        "import pandas as pd\n",
        "from sklearn.preprocessing import OneHotEncoder\n",
        "from sklearn.feature_extraction.text import TfidfVectorizer\n",
        "from sklearn.ensemble import RandomForestClassifier\n",
        "from scipy.sparse import hstack\n",
        "\n",
        "class MedicalPredictor:\n",
        "\n",
        "    def __init__(self, X_train, y_icd10_train, y_treatment_train):\n",
        "        self.encoder = OneHotEncoder()\n",
        "        self.tfidf_vectorizer = TfidfVectorizer()\n",
        "\n",
        "        # One-hot encoding for categorical features\n",
        "        X_train_encoded = self.encoder.fit_transform(X_train[['Problem Category', 'Psychological Category']])\n",
        "\n",
        "        # TF-IDF vectorization for Problem Summary\n",
        "        X_train_summary = self.tfidf_vectorizer.fit_transform(X_train['Problem Summary'])\n",
        "\n",
        "        # Combine encoded features with TF-IDF vectors\n",
        "        self.X_train_combined = hstack((X_train_encoded, X_train_summary))\n",
        "\n",
        "        # Train ICD-10 classifier\n",
        "        self.rf_icd10 = RandomForestClassifier()\n",
        "        self.rf_icd10.fit(self.X_train_combined, y_icd10_train)\n",
        "\n",
        "        # Train Treatment classifier\n",
        "        self.rf_treatment = RandomForestClassifier()\n",
        "        self.rf_treatment.fit(self.X_train_combined, y_treatment_train)\n",
        "\n",
        "    def predict_input(self, input_tuple):\n",
        "        input_data = pd.DataFrame([input_tuple], columns=['Problem Summary', 'Problem Category', 'Psychological Category'])\n",
        "\n",
        "        # Transform input data\n",
        "        input_encoded = self.encoder.transform(input_data[['Problem Category', 'Psychological Category']])\n",
        "        input_summary = self.tfidf_vectorizer.transform(input_data['Problem Summary'])\n",
        "        input_combined = hstack((input_encoded, input_summary))\n",
        "\n",
        "        # Make predictions\n",
        "        icd10_prediction = self.rf_icd10.predict(input_combined)[0]\n",
        "        treatment_prediction = self.rf_treatment.predict(input_combined)[0]\n",
        "\n",
        "        return icd10_prediction, treatment_prediction\n",
        "    def calculate_jaccard_score(self, true_icd10_labels, true_treatment_labels):\n",
        "        # Predict on the training data\n",
        "        icd10_predictions = self.rf_icd10.predict(self.X_train_combined)\n",
        "        treatment_predictions = self.rf_treatment.predict(self.X_train_combined)\n",
        "\n",
        "        # Calculate Jaccard scores\n",
        "        icd10_jaccard = jaccard_score(true_icd10_labels, icd10_predictions, average='macro')\n",
        "        treatment_jaccard = jaccard_score(true_treatment_labels, treatment_predictions, average='macro')\n",
        "\n",
        "        return icd10_jaccard, treatment_jaccard\n",
        "\n",
        "# Example usage\n",
        "data = pd.read_csv(\"tt.csv\").dropna()\n",
        "X = data[['Problem Summary', 'Problem Category', 'Psychological Category']]\n",
        "y_icd10 = data['ICD-10']\n",
        "y_treatment = data['Treatment Provided']\n",
        "X_train, y_icd10_train, y_treatment_train = X, y_icd10, y_treatment  # Using entire dataset for demonstration\n",
        "\n",
        "predictor = MedicalPredictor(X_train, y_icd10_train, y_treatment_train)\n",
        "\n",
        "input_tuple = ('Post-Traumatic Stress', 'Psychosis', 'Schizophrenia Spectrum')\n",
        "icd10_pred, treatment_pred = predictor.predict_input(input_tuple)\n",
        "\n",
        "print(\"Predicted ICD-10:\", icd10_pred)\n",
        "print(\"Predicted Treatment Provided:\", treatment_pred)\n",
        "\n",
        "# Calculate and print Jaccard scores\n",
        "icd10_jaccard, treatment_jaccard = predictor.calculate_jaccard_score(y_icd10_train, y_treatment_train)\n",
        "print(\"Jaccard score for ICD-10 predictions:\", icd10_jaccard)\n",
        "print(\"Jaccard score for Treatment predictions:\", treatment_jaccard)\n",
        "\n",
        "# Example usage\n",
        "data = pd.read_csv(\"tt.csv\").dropna()\n",
        "X = data[['Problem Summary', 'Problem Category', 'Psychological Category']]\n",
        "y_icd10 = data['ICD-10']\n",
        "y_treatment = data['Treatment Provided']\n",
        "X_train, y_icd10_train, y_treatment_train = X, y_icd10, y_treatment  # Using entire dataset for demonstration\n",
        "\n",
        "predictor = MedicalPredictor(X_train, y_icd10_train, y_treatment_train)\n",
        "\n",
        "input_tuple = ('Post-Traumatic Stress', 'Psychosis', 'Schizophrenia Spectrum')\n",
        "icd10_pred, treatment_pred = predictor.predict_input(input_tuple)\n",
        "\n",
        "print(\"Predicted ICD-10:\", icd10_pred)\n",
        "print(\"Predicted Treatment Provided:\", treatment_pred)\n"
      ],
      "metadata": {
        "colab": {
          "base_uri": "https://localhost:8080/"
        },
        "id": "1YUlwhxtrRGf",
        "outputId": "4f5a5f70-dacb-421d-c2d4-6e4b76e01621"
      },
      "execution_count": null,
      "outputs": [
        {
          "output_type": "stream",
          "name": "stdout",
          "text": [
            "Predicted ICD-10: F43.10\n",
            "Predicted Treatment Provided: Exposure Therapy\n",
            "Jaccard score for ICD-10 predictions: 0.9296875\n",
            "Jaccard score for Treatment predictions: 0.602432083553365\n",
            "Predicted ICD-10: F43.10\n",
            "Predicted Treatment Provided: Exposure Therapy\n"
          ]
        }
      ]
    },
    {
      "cell_type": "code",
      "source": [
        "joblib.dump(predictor, 'regression_model.joblib')"
      ],
      "metadata": {
        "id": "SshnChHbswO2",
        "colab": {
          "base_uri": "https://localhost:8080/"
        },
        "outputId": "9453f340-c7f4-4f1f-8a6b-fc507a5ba5a3"
      },
      "execution_count": null,
      "outputs": [
        {
          "output_type": "execute_result",
          "data": {
            "text/plain": [
              "['regression_model.joblib']"
            ]
          },
          "metadata": {},
          "execution_count": 67
        }
      ]
    },
    {
      "cell_type": "code",
      "source": [
        "# newwwwwwwwww"
      ],
      "metadata": {
        "id": "jcearfydHeen"
      },
      "execution_count": null,
      "outputs": []
    },
    {
      "cell_type": "code",
      "source": [
        "import pandas as pd\n",
        "from sklearn.preprocessing import OneHotEncoder\n",
        "from sklearn.feature_extraction.text import TfidfVectorizer\n",
        "from sklearn.ensemble import RandomForestClassifier\n",
        "from scipy.sparse import hstack\n",
        "import joblib\n",
        "from sklearn.metrics import jaccard_score\n",
        "from sklearn.model_selection import train_test_split\n",
        "\n",
        "class MedicalPredictor:\n",
        "\n",
        "    def __init__(self, X_train, y_icd10_train, y_treatment_train, train_flag=True, model_file=\"medical_predictor_model.pkl\"):\n",
        "        self.encoder = OneHotEncoder()\n",
        "        self.tfidf_vectorizer = TfidfVectorizer()\n",
        "        self.model_file = model_file\n",
        "\n",
        "        if train_flag:\n",
        "            # Combine training and test data for fitting OneHotEncoder\n",
        "            X_combined = pd.concat([X_train, X_test], ignore_index=True)\n",
        "\n",
        "            # One-hot encoding for categorical features\n",
        "            X_combined_encoded = self.encoder.fit_transform(X_combined[['Problem Category', 'Psychological Category']])\n",
        "\n",
        "            # TF-IDF vectorization for Problem Summary\n",
        "            X_train_summary = self.tfidf_vectorizer.fit_transform(X_train['Problem Summary'])\n",
        "\n",
        "            # Combine encoded features with TF-IDF vectors\n",
        "            X_train_combined = hstack((X_combined_encoded[:len(X_train)], X_train_summary))\n",
        "\n",
        "            # Train ICD-10 classifier\n",
        "            self.rf_icd10 = RandomForestClassifier()\n",
        "            self.rf_icd10.fit(X_train_combined, y_icd10_train)\n",
        "\n",
        "            # Train Treatment classifier\n",
        "            self.rf_treatment = RandomForestClassifier()\n",
        "            self.rf_treatment.fit(X_train_combined, y_treatment_train)\n",
        "\n",
        "            # Save the model\n",
        "            self.save_model()\n",
        "\n",
        "        else:\n",
        "            # Load the model\n",
        "            self.load_model()\n",
        "\n",
        "    def save_model(self):\n",
        "        joblib.dump((self.encoder, self.tfidf_vectorizer, self.rf_icd10, self.rf_treatment), self.model_file)\n",
        "\n",
        "    def load_model(self):\n",
        "        self.encoder, self.tfidf_vectorizer, self.rf_icd10, self.rf_treatment = joblib.load(self.model_file)\n",
        "\n",
        "    def predict_input(self, input_tuple):\n",
        "        input_data = pd.DataFrame([input_tuple], columns=['Problem Summary', 'Problem Category', 'Psychological Category'])\n",
        "\n",
        "        # Transform input data\n",
        "        input_encoded = self.encoder.transform(input_data[['Problem Category', 'Psychological Category']])\n",
        "        input_summary = self.tfidf_vectorizer.transform(input_data['Problem Summary'])\n",
        "        input_combined = hstack((input_encoded, input_summary))\n",
        "\n",
        "        # Make predictions\n",
        "        icd10_prediction = self.rf_icd10.predict(input_combined)[0]\n",
        "        treatment_prediction = self.rf_treatment.predict(input_combined)[0]\n",
        "\n",
        "        return icd10_prediction, treatment_prediction\n",
        "\n",
        "    def calculate_jaccard_score(self, X_test, y_icd10_test, y_treatment_test):\n",
        "        # Transform test data\n",
        "        X_test_encoded = self.encoder.transform(X_test[['Problem Category', 'Psychological Category']])\n",
        "        X_test_summary = self.tfidf_vectorizer.transform(X_test['Problem Summary'])\n",
        "        X_test_combined = hstack((X_test_encoded, X_test_summary))\n",
        "\n",
        "        # Predict on the test data\n",
        "        icd10_predictions = self.rf_icd10.predict(X_test_combined)\n",
        "        treatment_predictions = self.rf_treatment.predict(X_test_combined)\n",
        "\n",
        "        # Calculate Jaccard scores\n",
        "        icd10_jaccard = jaccard_score(y_icd10_test, icd10_predictions, average='macro')\n",
        "        treatment_jaccard = jaccard_score(y_treatment_test, treatment_predictions, average='macro')\n",
        "\n",
        "        return icd10_jaccard, treatment_jaccard\n",
        "\n",
        "    def retrain_model(self, X_new, y_icd10_new, y_treatment_new):\n",
        "        # One-hot encoding for categorical features\n",
        "        X_new_encoded = self.encoder.transform(X_new[['Problem Category', 'Psychological Category']])\n",
        "\n",
        "        # TF-IDF vectorization for Problem Summary\n",
        "        X_new_summary = self.tfidf_vectorizer.transform(X_new['Problem Summary'])\n",
        "\n",
        "        # Combine encoded features with TF-IDF vectors\n",
        "        X_new_combined = hstack((X_new_encoded, X_new_summary))\n",
        "\n",
        "        # Retrain ICD-10 classifier\n",
        "        self.rf_icd10.fit(X_new_combined, y_icd10_new)\n",
        "\n",
        "        # Retrain Treatment classifier\n",
        "        self.rf_treatment.fit(X_new_combined, y_treatment_new)\n",
        "\n",
        "        # Save the retrained model\n",
        "        self.save_model()\n",
        "\n",
        "# Example usage\n",
        "data = pd.read_csv(\"tt.csv\").dropna()\n",
        "\n",
        "X = data[['Problem Summary', 'Problem Category', 'Psychological Category']]\n",
        "y_icd10 = data['ICD-10']\n",
        "y_treatment = data['Treatment Provided']\n",
        "\n",
        "# Split data into training and testing sets\n",
        "X_train, X_test, y_icd10_train, y_icd10_test, y_treatment_train, y_treatment_test = train_test_split(\n",
        "    X, y_icd10, y_treatment, test_size=0.2, random_state=42)\n",
        "\n",
        "# Train the model\n",
        "predictor = MedicalPredictor(X_train, y_icd10_train, y_treatment_train, train_flag=True)\n",
        "\n",
        "# Evaluate the model\n",
        "icd10_jaccard, treatment_jaccard = predictor.calculate_jaccard_score(X_test, y_icd10_test, y_treatment_test)\n",
        "print(\"ICD-10 Jaccard Score on Test Data:\", icd10_jaccard)\n",
        "print(\"Treatment Jaccard Score on Test Data:\", treatment_jaccard)\n"
      ],
      "metadata": {
        "id": "mPfG-4X_I7ds",
        "colab": {
          "base_uri": "https://localhost:8080/"
        },
        "outputId": "37661c71-5b35-470c-e469-9b72956c1a33"
      },
      "execution_count": 12,
      "outputs": [
        {
          "output_type": "stream",
          "name": "stdout",
          "text": [
            "ICD-10 Jaccard Score on Test Data: 0.6296296296296295\n",
            "Treatment Jaccard Score on Test Data: 0.14305555555555557\n"
          ]
        }
      ]
    },
    {
      "cell_type": "code",
      "source": [
        "X = data[['Problem Summary', 'Problem Category', 'Psychological Category']]\n",
        "y_icd10 = data['ICD-10']\n",
        "y_treatment = data['Treatment Provided']\n",
        "X_train, y_icd10_train, y_treatment_train = X, y_icd10, y_treatment  # Using entire dataset for demonstration\n",
        "\n",
        "# Train the model if it doesn't exist, otherwise load it from file\n",
        "predictor = MedicalPredictor(X_train, y_icd10_train, y_treatment_train, train_flag=True)"
      ],
      "metadata": {
        "id": "syZi8vLHYTHu"
      },
      "execution_count": null,
      "outputs": []
    },
    {
      "cell_type": "code",
      "source": [
        "input_tuple = ('Post-Traumatic Stress', 'Psychosis', 'Schizophrenia Spectrum')\n",
        "icd10_pred, treatment_pred = predictor.predict_input(input_tuple)"
      ],
      "metadata": {
        "id": "22mOK5UqI7uR"
      },
      "execution_count": null,
      "outputs": []
    },
    {
      "cell_type": "code",
      "source": [
        "print(\"Predicted ICD10 : \" + icd10_pred)\n",
        "print(\"Treatment : \" +treatment_pred)"
      ],
      "metadata": {
        "colab": {
          "base_uri": "https://localhost:8080/"
        },
        "id": "u0zYGzbgSWui",
        "outputId": "35f9086b-547a-4f09-bf5a-a1c9d97d4a5e"
      },
      "execution_count": null,
      "outputs": [
        {
          "output_type": "stream",
          "name": "stdout",
          "text": [
            "Predicted ICD10 : F43.10\n",
            "Treatment : Antipsychotic Medication\n"
          ]
        }
      ]
    },
    {
      "cell_type": "code",
      "source": [
        "true_icd10_labels = y_icd10_train\n",
        "true_treatment_labels = y_treatment_train\n",
        "\n",
        "# Calculate Jaccard scores\n",
        "icd10_jaccard, treatment_jaccard = predictor.calculate_jaccard_score(true_icd10_labels, true_treatment_labels)\n",
        "\n",
        "# Print the Jaccard scores\n",
        "print(\"Jaccard score for ICD-10 codes:\", icd10_jaccard)\n",
        "print(\"Jaccard score for treatments:\", treatment_jaccard)"
      ],
      "metadata": {
        "colab": {
          "base_uri": "https://localhost:8080/"
        },
        "id": "zJMkCi0ZVPFK",
        "outputId": "3db424a5-fc89-4380-904b-591671843576"
      },
      "execution_count": null,
      "outputs": [
        {
          "output_type": "stream",
          "name": "stdout",
          "text": [
            "Jaccard score for ICD-10 codes: 0.9296875\n",
            "Jaccard score for treatments: 0.5991902834008097\n"
          ]
        }
      ]
    },
    {
      "cell_type": "code",
      "source": [
        "datanew = pd.read_csv(\"tt.csv\").dropna()\n",
        "X = datanew[['Problem Summary', 'Problem Category', 'Psychological Category']]\n",
        "y_icd10 = data['ICD-10']\n",
        "y_treatment = data['Treatment Provided']\n",
        "X_train, y_icd10_train, y_treatment_train = X, y_icd10, y_treatment\n",
        "X_new, y_icd10_new, y_treatment_new = X_train, y_icd10_train, y_treatment_train\n",
        "predictor.retrain_model(X_new, y_icd10_new, y_treatment_new)"
      ],
      "metadata": {
        "id": "MruZBkLoSZry"
      },
      "execution_count": null,
      "outputs": []
    },
    {
      "cell_type": "code",
      "source": [
        "import pandas as pd\n",
        "import re\n",
        "import nltk\n",
        "import pickle\n",
        "import os\n",
        "from nltk.corpus import stopwords\n",
        "from nltk.tokenize import word_tokenize\n",
        "from sklearn.feature_extraction.text import TfidfVectorizer\n",
        "from sklearn.multioutput import MultiOutputClassifier\n",
        "from sklearn.ensemble import RandomForestClassifier\n",
        "from sklearn.pipeline import Pipeline\n",
        "\n",
        "# Download NLTK resources\n",
        "nltk.download('punkt')\n",
        "nltk.download('stopwords')\n",
        "\n",
        "# Define function for preprocessing text\n",
        "def preprocess_text(text):\n",
        "    text = text.lower()  # Convert text to lowercase\n",
        "    text = re.sub(r'[^\\w\\s]', '', text)  # Remove punctuation\n",
        "    tokens = word_tokenize(text)  # Tokenization\n",
        "    stop_words = set(stopwords.words('english'))  # Get stopwords\n",
        "    tokens = [token for token in tokens if token not in stop_words]  # Remove stopwords\n",
        "    preprocessed_text = ' '.join(tokens)  # Join tokens back into a single string\n",
        "    return preprocessed_text\n",
        "\n",
        "\n",
        "# Define function for training or loading model\n",
        "def train_or_load_model(training_data):\n",
        "    tfidf_vectorizer = TfidfVectorizer(max_features=1000)\n",
        "    X_train = tfidf_vectorizer.fit_transform(training_data['Problem Description'])\n",
        "    y_train = training_data[['Problem Summary', 'Problem Category', 'Psychological Category', 'ICD-10']]\n",
        "\n",
        "    classifier = RandomForestClassifier(n_estimators=100, random_state=42)\n",
        "    multi_output_classifier = MultiOutputClassifier(classifier)\n",
        "\n",
        "    pipeline = Pipeline([\n",
        "        ('tfidf', tfidf_vectorizer),\n",
        "        ('clf', multi_output_classifier)\n",
        "    ])\n",
        "\n",
        "    pipeline.fit(training_data['Problem Description'], y_train)\n",
        "    joblib.dump(pipeline, 'model.pkl')\n",
        "    return pipeline\n",
        "\n",
        "\n",
        "# Define function to check for new files and update model\n",
        "def check_for_new_files_and_update_model():\n",
        "    # latest_file = max([os.path.join(folder_path, f) for f in os.listdir(folder_path)], key=os.path.getctime)\n",
        "    # print(\"Latest file:\", latest_file)\n",
        "    training_data = pd.read_csv('tt.csv')\n",
        "    training_data=training_data.dropna()\n",
        "\n",
        "    # if os.path.exists('/Users/shubhamsaxena/PycharmProjects/noideaProject/ModelState/model.pkl'):\n",
        "    # with open('model.pkl', 'rb') as model_file:\n",
        "    #     pipeline = pickle.load(model_file)\n",
        "    # else:\n",
        "    #     pipeline = train_or_load_model(training_data)\n",
        "\n",
        "    pipeline = train_or_load_model(training_data)\n",
        "\n",
        "    # with open('model.pkl', 'wb') as model_file:\n",
        "    #     pickle.dump(pipeline, model_file)\n",
        "\n",
        "    return pipeline\n",
        "\n",
        "\n",
        "# Define function to make predictions on incoming dataset\n",
        "def make_predictions_on_incoming_dataset(incoming_dataset, pipeline):\n",
        "    incoming_data = pd.DataFrame([incoming_dataset])\n",
        "    incoming_data['Problem Description'] = incoming_data['problem_description'].apply(preprocess_text)\n",
        "    incoming_data.drop(columns=['problem_description'], inplace=True)\n",
        "\n",
        "    predictions = pipeline.predict(incoming_data['Problem Description'])\n",
        "    return predictions\n",
        "\n",
        "\n",
        "# Example of incoming dataset\n",
        "incoming_dataset = {\"age\":26, \"gender\":\"Female\", \"problem_description\":\"Sarah a 26-year-old woman experiences intense fear and anxiety in social situations making it difficult for her to interact with others. She worries excessively about being judged or humiliated which leads her to avoid social gatherings and events. Sarah's social anxiety has impacted her ability to form meaningful connections and pursue opportunities in her personal and professional life. Despite her desire to overcome her fears Sarah feels trapped by her anxiety and unable to break free from its grip.\"}\n",
        "\n",
        "# Specify folder path where new files will be added\n",
        "# folder_path = '/Users/shubhamsaxena/Desktop/NewDat'\n",
        "\n",
        "# Check for new files and update model\n",
        "pipeline = check_for_new_files_and_update_model()\n",
        "\n",
        "# Make predictions on incoming dataset\n",
        "predictions = make_predictions_on_incoming_dataset(incoming_dataset, pipeline)\n",
        "print(\"Predictions on Incoming Dataset:\")\n",
        "print(predictions)"
      ],
      "metadata": {
        "id": "ZKy9GcR-TqAK",
        "colab": {
          "base_uri": "https://localhost:8080/"
        },
        "outputId": "a15098ee-fc1c-411f-cecb-01c7fa0282c0"
      },
      "execution_count": 11,
      "outputs": [
        {
          "output_type": "stream",
          "name": "stderr",
          "text": [
            "[nltk_data] Downloading package punkt to /root/nltk_data...\n",
            "[nltk_data]   Package punkt is already up-to-date!\n",
            "[nltk_data] Downloading package stopwords to /root/nltk_data...\n",
            "[nltk_data]   Package stopwords is already up-to-date!\n"
          ]
        },
        {
          "output_type": "stream",
          "name": "stdout",
          "text": [
            "Predictions on Incoming Dataset:\n",
            "[['Obsessive-Compulsive Disorder' 'Anxiety Disorders' 'Anxiety' 'F45.21']]\n"
          ]
        }
      ]
    },
    {
      "cell_type": "code",
      "source": [],
      "metadata": {
        "id": "XeYH96PFiOsB"
      },
      "execution_count": 10,
      "outputs": []
    }
  ]
}