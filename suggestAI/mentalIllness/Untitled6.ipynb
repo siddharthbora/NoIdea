{
  "nbformat": 4,
  "nbformat_minor": 0,
  "metadata": {
    "colab": {
      "provenance": []
    },
    "kernelspec": {
      "name": "python3",
      "display_name": "Python 3"
    },
    "language_info": {
      "name": "python"
    }
  },
  "cells": [
    {
      "cell_type": "code",
      "execution_count": 95,
      "metadata": {
        "colab": {
          "base_uri": "https://localhost:8080/"
        },
        "id": "E0WdCzagJg8j",
        "outputId": "fb44950c-d13c-4dc3-ca62-fa1fb1a8aaa0"
      },
      "outputs": [
        {
          "output_type": "stream",
          "name": "stdout",
          "text": [
            "Predicted ICD-10: F32.9\n",
            "Predicted Treatment Provided: Antidepressant Medication\n"
          ]
        }
      ],
      "source": [
        "import pandas as pd\n",
        "from scipy.sparse import hstack\n",
        "import joblib\n",
        "\n",
        "# Define the MedicalPredictor class\n",
        "class MedicalPredictor:\n",
        "    def __init__(self, model_file=\"medical_predictor_model.pkl\"):\n",
        "        self.model_file = model_file\n",
        "        self.load_model()\n",
        "\n",
        "    def load_model(self):\n",
        "        self.encoder, self.tfidf_vectorizer, self.rf_icd10, self.rf_treatment = joblib.load(self.model_file)\n",
        "\n",
        "    def predict_input(self, input_tuple):\n",
        "        input_data = pd.DataFrame([input_tuple], columns=['Problem Summary', 'Problem Category', 'Psychological Category'])\n",
        "\n",
        "        # Transform input data\n",
        "        input_encoded = self.encoder.transform(input_data[['Problem Category', 'Psychological Category']])\n",
        "        input_summary = self.tfidf_vectorizer.transform(input_data['Problem Summary'])\n",
        "        input_combined = hstack((input_encoded, input_summary))\n",
        "\n",
        "        # Make predictions\n",
        "        icd10_prediction = self.rf_icd10.predict(input_combined)[0]\n",
        "        treatment_prediction = self.rf_treatment.predict(input_combined)[0]\n",
        "\n",
        "        return icd10_prediction, treatment_prediction\n",
        "\n",
        "# Example usage\n",
        "predictor = MedicalPredictor(model_file=\"medical_predictor_model.pkl\")\n",
        "\n",
        "input_tuple = ('Major Depression', 'Depression', 'Mood Disorders')\n",
        "icd10_pred, treatment_pred = predictor.predict_input(input_tuple)\n",
        "\n",
        "print(\"Predicted ICD-10:\", icd10_pred)\n",
        "print(\"Predicted Treatment Provided:\", treatment_pred)\n"
      ]
    },
    {
      "cell_type": "code",
      "source": [
        "import nltk\n",
        "nltk.__version__\n",
        "import pick"
      ],
      "metadata": {
        "id": "NaK7qXaZJxP8"
      },
      "execution_count": 11,
      "outputs": []
    },
    {
      "cell_type": "code",
      "source": [
        "encoder, tfidf_vectorizer, rf_icd10, rf_treatment = joblib.load(\"medical_predictor_model.pkl\")\n",
        "\n",
        "def predict_input(input_tuple):\n",
        "    input_data = pd.DataFrame([input_tuple], columns=['Problem Summary', 'Problem Category', 'Psychological Category'])\n",
        "\n",
        "    # Transform input data\n",
        "    input_encoded = encoder.transform(input_data[['Problem Category', 'Psychological Category']])\n",
        "    input_summary = tfidf_vectorizer.transform(input_data['Problem Summary'])\n",
        "    input_combined = hstack((input_encoded, input_summary))\n",
        "\n",
        "    # Make predictions\n",
        "    icd10_prediction = rf_icd10.predict(input_combined)[0]\n",
        "    treatment_prediction = rf_treatment.predict(input_combined)[0]\n",
        "\n",
        "    return icd10_prediction, treatment_prediction\n",
        "# predictor = MedicalPredictor(model_file=\"medical_predictor_model.pkl\")\n",
        "\n",
        "test = joblib.load('m1.pkl')"
      ],
      "metadata": {
        "id": "UlaygdPwgA-p"
      },
      "execution_count": 82,
      "outputs": []
    },
    {
      "cell_type": "code",
      "source": [
        "age=input()\n",
        "gender=input()\n",
        "problem_description=input()"
      ],
      "metadata": {
        "colab": {
          "base_uri": "https://localhost:8080/"
        },
        "id": "lRWF69KuglcB",
        "outputId": "43fc20fa-761a-4ae7-e43d-646a7cbcc5d5"
      },
      "execution_count": 89,
      "outputs": [
        {
          "name": "stdout",
          "output_type": "stream",
          "text": [
            "50\n",
            "Male\n",
            "i cant sleep and too much depressed\n"
          ]
        }
      ]
    },
    {
      "cell_type": "code",
      "source": [
        "op1=test.predict({\"age\":age,\"gender\":gender,\"problem_description\":problem_description})\n",
        "print(op1)\n",
        "op1=tuple(op1[0][0:3])\n",
        "print(op1)"
      ],
      "metadata": {
        "colab": {
          "base_uri": "https://localhost:8080/"
        },
        "id": "DCgaKLUfhPZM",
        "outputId": "44f08375-42d0-49cb-9067-d07349299c90"
      },
      "execution_count": 90,
      "outputs": [
        {
          "output_type": "stream",
          "name": "stdout",
          "text": [
            "[['Eating Disorder' 'Personality Disorders' 'Anxiety' 'F60.0']\n",
            " ['Eating Disorder' 'Personality Disorders' 'Anxiety' 'F60.0']\n",
            " ['Eating Disorder' 'Personality Disorders' 'Anxiety' 'F60.0']]\n",
            "('Eating Disorder', 'Personality Disorders', 'Anxiety')\n"
          ]
        }
      ]
    },
    {
      "cell_type": "code",
      "source": [
        "icd10_pred, treatment_pred = predict_input(op1)\n",
        "print(icd10_pred)\n",
        "print(treatment_pred)"
      ],
      "metadata": {
        "colab": {
          "base_uri": "https://localhost:8080/"
        },
        "id": "Nk6R8zPf8uKb",
        "outputId": "23f1429c-5b0b-49ae-8dee-357e731f0fe0"
      },
      "execution_count": 91,
      "outputs": [
        {
          "output_type": "stream",
          "name": "stdout",
          "text": [
            "F41.0\n",
            "Cognitive Behavioral Therapy\n"
          ]
        }
      ]
    },
    {
      "cell_type": "code",
      "source": [
        "pred=test.predict({\"age\":'34',\"gender\":'Female',\t\"problem_description\":\"Lauren a 27-year-old woman experiences compulsive overeating and feelings of guilt and shame afterward. She frequently consumes large quantities of food in a short period even when she isn't hungry and struggles to stop herself once she starts. Lauren's binge eating episodes have caused problems in her relationships and at work as others find her behavior concerning and unhealthy. Despite her attempts to control her eating Lauren feels as though she is constantly battling against her own urges.\"})"
      ],
      "metadata": {
        "id": "Q8QU1QWbhTd-"
      },
      "execution_count": 53,
      "outputs": []
    },
    {
      "cell_type": "code",
      "source": [
        "pred"
      ],
      "metadata": {
        "colab": {
          "base_uri": "https://localhost:8080/"
        },
        "id": "okiFtPQokhXJ",
        "outputId": "49607e53-7e1e-4807-9a7f-7073a5f719ac"
      },
      "execution_count": 54,
      "outputs": [
        {
          "output_type": "execute_result",
          "data": {
            "text/plain": [
              "array([['Eating Disorder', 'Personality Disorders', 'Anxiety', 'F60.0'],\n",
              "       ['Eating Disorder', 'Personality Disorders', 'Anxiety', 'F60.0'],\n",
              "       ['Eating Disorder', 'Personality Disorders', 'Anxiety', 'F60.0']],\n",
              "      dtype=object)"
            ]
          },
          "metadata": {},
          "execution_count": 54
        }
      ]
    },
    {
      "cell_type": "code",
      "source": [
        "pred=tuple(pred[0][0:])"
      ],
      "metadata": {
        "id": "HNDyUsxIkoc3"
      },
      "execution_count": 35,
      "outputs": []
    },
    {
      "cell_type": "code",
      "source": [
        "pred"
      ],
      "metadata": {
        "colab": {
          "base_uri": "https://localhost:8080/"
        },
        "id": "S4r1_JA9k9h7",
        "outputId": "c1282e99-6134-4f39-c1d3-50d58362c9b5"
      },
      "execution_count": 36,
      "outputs": [
        {
          "output_type": "execute_result",
          "data": {
            "text/plain": [
              "('Eating Disorder', 'Personality Disorders', 'Anxiety')"
            ]
          },
          "metadata": {},
          "execution_count": 36
        }
      ]
    },
    {
      "cell_type": "code",
      "source": [
        "icd10_pred, treatment_pred = predictor.predict_input(pred)"
      ],
      "metadata": {
        "id": "riNaOZsck-MH"
      },
      "execution_count": 37,
      "outputs": []
    },
    {
      "cell_type": "code",
      "source": [
        "icd10_pred"
      ],
      "metadata": {
        "colab": {
          "base_uri": "https://localhost:8080/",
          "height": 35
        },
        "id": "yXM9RZBJlQTb",
        "outputId": "2c0e89ec-e2d6-4e5d-c763-8113f96585a3"
      },
      "execution_count": 38,
      "outputs": [
        {
          "output_type": "execute_result",
          "data": {
            "text/plain": [
              "'F41.0'"
            ],
            "application/vnd.google.colaboratory.intrinsic+json": {
              "type": "string"
            }
          },
          "metadata": {},
          "execution_count": 38
        }
      ]
    },
    {
      "cell_type": "code",
      "source": [],
      "metadata": {
        "id": "MJZzXJKFlRbn"
      },
      "execution_count": null,
      "outputs": []
    }
  ]
}